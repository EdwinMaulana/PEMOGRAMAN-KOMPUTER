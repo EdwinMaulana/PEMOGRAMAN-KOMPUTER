{
 "cells": [
  {
   "cell_type": "markdown",
   "metadata": {},
   "source": [
    "# PERTEMUAN 3"
   ]
  },
  {
   "cell_type": "code",
   "execution_count": 23,
   "metadata": {},
   "outputs": [
    {
     "name": "stdout",
     "output_type": "stream",
     "text": [
      "halo,  23\n"
     ]
    },
    {
     "ename": "ValueError",
     "evalue": "invalid literal for int() with base 10: ''",
     "output_type": "error",
     "traceback": [
      "\u001b[1;31m---------------------------------------------------------------------------\u001b[0m",
      "\u001b[1;31mValueError\u001b[0m                                Traceback (most recent call last)",
      "Cell \u001b[1;32mIn[23], line 6\u001b[0m\n\u001b[0;32m      3\u001b[0m \u001b[38;5;28mprint\u001b[39m(\u001b[38;5;124m\"\u001b[39m\u001b[38;5;124mhalo, \u001b[39m\u001b[38;5;124m\"\u001b[39m , nama)\n\u001b[0;32m      5\u001b[0m \u001b[38;5;66;03m# contoh input integer\u001b[39;00m\n\u001b[1;32m----> 6\u001b[0m umur \u001b[38;5;241m=\u001b[39m \u001b[38;5;28;43mint\u001b[39;49m\u001b[43m(\u001b[49m\u001b[38;5;28;43minput\u001b[39;49m\u001b[43m(\u001b[49m\u001b[38;5;124;43m\"\u001b[39;49m\u001b[38;5;124;43mMasukan umur: \u001b[39;49m\u001b[38;5;124;43m\"\u001b[39;49m\u001b[43m)\u001b[49m\u001b[43m)\u001b[49m\n\u001b[0;32m      7\u001b[0m \u001b[38;5;28mprint\u001b[39m(\u001b[38;5;124m\"\u001b[39m\u001b[38;5;124mumur Anda:\u001b[39m\u001b[38;5;124m\"\u001b[39m, umur)\n\u001b[0;32m      9\u001b[0m \u001b[38;5;66;03m# contoh input float\u001b[39;00m\n",
      "\u001b[1;31mValueError\u001b[0m: invalid literal for int() with base 10: ''"
     ]
    }
   ],
   "source": [
    "# contoh input string \n",
    "nama = input(\"Masukan nama anda: \")\n",
    "print(\"halo, \" , nama)\n",
    "      \n",
    "# contoh input integer\n",
    "umur = int(input(\"Masukan umur: \"))\n",
    "print(\"umur Anda:\", umur)\n",
    "\n",
    "# contoh input float\n",
    "ipk = float(input(\"Masukan ipk: \"))\n",
    "print(\"IPK Anda:\", ipk)"
   ]
  },
  {
   "cell_type": "markdown",
   "metadata": {},
   "source": [
    "# contoh input yang di pisahkan spasi"
   ]
  },
  {
   "cell_type": "code",
   "execution_count": null,
   "metadata": {},
   "outputs": [
    {
     "name": "stdout",
     "output_type": "stream",
     "text": [
      "Bilangan pertama: 2\n",
      "Bilangan kedua: 8\n"
     ]
    }
   ],
   "source": [
    "bil = input(\"Masukkan dua bilangan bulat dipisahkan oleh spasi: \")\n",
    "# Membagi variabel bil menjadi variabel bil1 dan bil2\n",
    "bil1, bil2 = map(int, bil.split())\n",
    "print(\"Bilangan pertama:\", bil1)\n",
    "print(\"Bilangan kedua:\", bil2)  "
   ]
  },
  {
   "cell_type": "markdown",
   "metadata": {},
   "source": [
    "# macam macam jenis output pada phyton"
   ]
  },
  {
   "cell_type": "code",
   "execution_count": null,
   "metadata": {},
   "outputs": [
    {
     "name": "stdout",
     "output_type": "stream",
     "text": [
      "Hallo edwin  Umur anda: 18 IPK anda: 4.0\n",
      "Hallo edwin , Umur anda: 18 IPK anda: 4.0\n",
      "Hallo edwin , Umur anda: 18, IPK anda: 4.0\n",
      "Hallo edwin , Umur anda: 18, IPK anda: 4.0\n"
     ]
    }
   ],
   "source": [
    "print(\"Hallo\" , nama, \"Umur anda:\", umur, \"IPK anda:\", ipk)\n",
    "\n",
    "print(\"Hallo \"+ nama+ \", Umur anda:\" , umur, \"IPK anda:\", ipk )\n",
    "\n",
    "print(\"Hallo %s, Umur anda: %i, IPK anda: %.1f\" % (nama, umur, ipk))\n",
    "      \n",
    "print(f\"Hallo {nama}, Umur anda: {umur}, IPK anda: {ipk}\") "
   ]
  },
  {
   "cell_type": "markdown",
   "metadata": {},
   "source": [
    "# struktur runtunan"
   ]
  },
  {
   "cell_type": "code",
   "execution_count": 24,
   "metadata": {},
   "outputs": [
    {
     "name": "stdout",
     "output_type": "stream",
     "text": [
      "pi = 3.14\n",
      "jari-jari = 23\n",
      "Luas lingkaran = 1662.57\n"
     ]
    }
   ],
   "source": [
    "# input \n",
    "pi = 22/7\n",
    "r = int( input(\"jari-jari = \"))\n",
    "               \n",
    "# proses menghitung luas lingkaran \n",
    "luas = pi * r * r\n",
    "\n",
    "# output luas lingkaran \n",
    "print(\"pi = %.2f\" %pi)\n",
    "print(\"jari-jari =\", r)\n",
    "print(\"Luas lingkaran = %.2f\" %(luas))"
   ]
  }
 ],
 "metadata": {
  "kernelspec": {
   "display_name": "Python 3",
   "language": "python",
   "name": "python3"
  },
  "language_info": {
   "codemirror_mode": {
    "name": "ipython",
    "version": 3
   },
   "file_extension": ".py",
   "mimetype": "text/x-python",
   "name": "python",
   "nbconvert_exporter": "python",
   "pygments_lexer": "ipython3",
   "version": "3.12.2"
  }
 },
 "nbformat": 4,
 "nbformat_minor": 2
}
